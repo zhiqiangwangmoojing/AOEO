{
 "cells": [
  {
   "cell_type": "code",
   "execution_count": null,
   "id": "3e59e732",
   "metadata": {},
   "outputs": [],
   "source": [
    "import pandas as pd\n",
    "result_end=pd.read_csv(\"result.csv\")\n",
    "result_end_2=pd.DataFrame(columns=result_end.columns)\n",
    "for i in range(len(result_end)):\n",
    "    x=result_end['normedOpinion_term'][i]\n",
    "    xx=x.split(' ')\n",
    "    for k in xx:\n",
    "        lis={}\n",
    "        for l in result_end.columns:\n",
    "            if l=='normedOpinion_term':\n",
    "                lis[l]=k\n",
    "            else:\n",
    "                lis[l]=result_end[l][i]\n",
    "        result_end_2=result_end_2.append(lis , ignore_index=True)\n",
    "        print(len(result_end_2))\n",
    "result_end_2.to_csv(\"normedOpinion_term分割后的数据结果.csv\",encoding = 'utf_8_sig')"
   ]
  }
 ],
 "metadata": {
  "kernelspec": {
   "display_name": "Python 3",
   "language": "python",
   "name": "python3"
  },
  "language_info": {
   "codemirror_mode": {
    "name": "ipython",
    "version": 3
   },
   "file_extension": ".py",
   "mimetype": "text/x-python",
   "name": "python",
   "nbconvert_exporter": "python",
   "pygments_lexer": "ipython3",
   "version": "3.6.9"
  },
  "toc": {
   "base_numbering": 1,
   "nav_menu": {},
   "number_sections": true,
   "sideBar": true,
   "skip_h1_title": false,
   "title_cell": "Table of Contents",
   "title_sidebar": "Contents",
   "toc_cell": false,
   "toc_position": {},
   "toc_section_display": true,
   "toc_window_display": false
  }
 },
 "nbformat": 4,
 "nbformat_minor": 5
}
