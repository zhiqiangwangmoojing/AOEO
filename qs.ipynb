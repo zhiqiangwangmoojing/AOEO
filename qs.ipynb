{
 "cells": [
  {
   "cell_type": "code",
   "execution_count": 27,
   "metadata": {},
   "outputs": [],
   "source": [
    "from elasticsearch import Elasticsearch, helpers\n",
    "import threading\n",
    "import json\n",
    "import re\n",
    "from moojing import Exporter\n",
    "import pandas as pd\n",
    "pd.set_option(\"max_colwidth\",100)\n",
    "from pymongo import *\n",
    "\n",
    "import arrow\n",
    "\n",
    "ls1=[]\n",
    "ls1_comment_id=[]\n",
    "ls1_item_id=[]\n",
    "ls1_ts=[]\n",
    "xxx=['612611963718','587991649073','610178381347','591484378514','638712575700']\n",
    "for i in xxx:\n",
    "    es = Elasticsearch('http://10.19.12.67:9200')\n",
    "    index = [\"polarity_tmcomment_v4_1_p1*\", 'polarity_tmcomment_v4_1_p2*', 'polarity_tmcomment_v4_1_p3*', \"polarity_tmcomment_v4_3*\"]\n",
    "\n",
    "    body = {\"query\": {\"terms\": {\"item_id\": [i]}}, 'sort': 'ctime', \"track_total_hits\": True}\n",
    "    res = es.search(index=index, body=body, size=10000, request_timeout=60)\n",
    "\n",
    "    for r in res['hits']['hits']:\n",
    "        ls1.append(r['_source']['content'])\n",
    "        ls1_comment_id.append(r['_source']['comment_id'])\n",
    "        ls1_item_id.append(r['_source']['item_id'])\n",
    "        ls1_ts.append(r['_source']['ctime'])"
   ]
  },
  {
   "cell_type": "code",
   "execution_count": 28,
   "metadata": {},
   "outputs": [],
   "source": [
    "import xlwt\n",
    "f = xlwt.Workbook('utf-8') #设置工作簿编码\n",
    "sheet1 = f.add_sheet('sheet1',cell_overwrite_ok=True) #创建sheet工作表\n",
    "sheet1.write(0,0,'item_id') #写入数据参数对应 行, 列, 值\n",
    "sheet1.write(0,1,'comment_id') #写入数据参数对应 行, 列, 值\n",
    "sheet1.write(0,2,'ts') #写入数据参数对应 行, 列, 值\n",
    "sheet1.write(0,3,'full_comment') #写入数据参数对应 行, 列, 值\n",
    "\n",
    "for i in range(len(ls1)):\n",
    "    sheet1.write(i+1,0,ls1_item_id[i]) #写入数据参数对应 行, 列, 值\n",
    "    sheet1.write(i+1,1,ls1_comment_id[i]) #写入数据参数对应 行, 列, 值\n",
    "    sheet1.write(i+1,2,ls1_ts[i]) #写入数据参数对应 行, 列, 值\n",
    "    sheet1.write(i+1,3,ls1[i]) #写入数据参数对应 行, 列, 值\n",
    "\n",
    "f.save('data.xls')#保存.xls到当前工作目录\n"
   ]
  },
  {
   "cell_type": "code",
   "execution_count": 50,
   "metadata": {},
   "outputs": [],
   "source": [
    "# 612611963718\n",
    "\n",
    "\n",
    "# 587991649073\n",
    "# 610178381347\n",
    "\n",
    "# 591484378514\n",
    "# 638712575700"
   ]
  },
  {
   "cell_type": "code",
   "execution_count": null,
   "metadata": {},
   "outputs": [],
   "source": [
    "#item_id,comment_id,ts,full_comment,clasue, aspect, polarity, opinionTerm\n",
    "#商品id，评论id，月份，完整评论，子句，方面，好坏，不知道是啥\n"
   ]
  },
  {
   "cell_type": "code",
   "execution_count": 29,
   "metadata": {
    "scrolled": true
   },
   "outputs": [
    {
     "name": "stdout",
     "output_type": "stream",
     "text": [
      "13659\n"
     ]
    }
   ],
   "source": [
    "print(len(ls1))"
   ]
  },
  {
   "cell_type": "code",
   "execution_count": null,
   "metadata": {},
   "outputs": [],
   "source": []
  }
 ],
 "metadata": {
  "kernelspec": {
   "display_name": "Python 2",
   "language": "python",
   "name": "python2"
  },
  "language_info": {
   "codemirror_mode": {
    "name": "ipython",
    "version": 2
   },
   "file_extension": ".py",
   "mimetype": "text/x-python",
   "name": "python",
   "nbconvert_exporter": "python",
   "pygments_lexer": "ipython2",
   "version": "2.7.12"
  }
 },
 "nbformat": 4,
 "nbformat_minor": 2
}
